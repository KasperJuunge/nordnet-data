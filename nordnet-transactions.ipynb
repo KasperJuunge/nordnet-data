{
 "cells": [
  {
   "cell_type": "markdown",
   "metadata": {},
   "source": [
    "## Import "
   ]
  },
  {
   "cell_type": "code",
   "execution_count": 25,
   "metadata": {},
   "outputs": [
    {
     "data": {
      "text/plain": [
       "DataTransformerRegistry.enable('default')"
      ]
     },
     "execution_count": 25,
     "metadata": {},
     "output_type": "execute_result"
    }
   ],
   "source": [
    "import altair as alt\n",
    "import pandas as pd\n",
    "from classes import Nordnet\n",
    "alt.data_transformers.disable_max_rows()       "
   ]
  },
  {
   "cell_type": "markdown",
   "metadata": {},
   "source": [
    "### Load Data"
   ]
  },
  {
   "cell_type": "code",
   "execution_count": 29,
   "metadata": {},
   "outputs": [],
   "source": [
    "# Init nordnet class\n",
    "nordnet = Nordnet()\n",
    "\n",
    "# What share data to download. TODO: compose this list automatically from transaction data!\n",
    "sharelist = [\n",
    "    [\"Carlsberg B A/S\",\"DK0010181759\",16099914],\n",
    "    [\"Ørsted\",\"DK0060094928\",16557154],\n",
    "    [\"Demant A/S\",\"DK0060738599\", 16099933],\n",
    "    ]\n",
    "\n",
    "# Download transactions and prices\n",
    "nordnet.get_transactions(startdate='2020-06-11')\n",
    "nordnet.get_share_prices(sharelist, startdate='2020-06-11')\n",
    "\n",
    "# Load data into Pandas Dataframe\n",
    "df_trans = pd.read_csv('./data/transactions.csv',sep=';', decimal=\",\")\n",
    "df_prices = pd.read_csv('./data/prices.csv', sep=';', decimal=\",\")\n",
    " \n"
   ]
  },
  {
   "cell_type": "markdown",
   "metadata": {},
   "source": [
    "### Clean Data"
   ]
  },
  {
   "cell_type": "code",
   "execution_count": 30,
   "metadata": {},
   "outputs": [],
   "source": [
    "# Convert date-row to datetime (for nice plotting)\n",
    "df_prices['date'] = pd.to_datetime(df_prices['date'], format='%Y-%m-%d')\n",
    "\n",
    "# Choose columns to work with\n",
    "df_trans = df_trans[['Handelsdag', 'Transaktionstype', 'Værdipapirer', 'Værdipapirtype', 'Kurs', 'Antal', 'Indkøbsværdi', 'Valuta', 'cost', 'Saldo', 'Vekslingskurs', 'Resultat', 'ISIN']]\n",
    "\n",
    "# Rename columns\n",
    "df_trans = df_trans.rename(columns={'Handelsdag': 'date', \n",
    "                                    'Transaktionstype': 'transaction_type', \n",
    "                                    'Værdipapirer': 'share', \n",
    "                                    'Værdipapirtype': 'type', \n",
    "                                    'Kurs': 'price', \n",
    "                                    'Valuta': 'currency',\n",
    "                                    'Antal': 'quantity', \n",
    "                                    'Indkøbsværdi': 'purchase_value', \n",
    "                                    'Saldo': 'balance',\n",
    "                                    'Vekslingskurs': 'exchage_rate',\n",
    "                                    'Resultat': 'result', \n",
    "                                    'ISIN': 'isin'})\n",
    "\n",
    "# Convert Saldo column to float\n",
    "def handle_comma(x):\n",
    "    x = x.replace('.', '')\n",
    "    x = x.replace(',', '.')\n",
    "    return x\n",
    "\n",
    "df_trans['balance'] = df_trans['balance'].apply(lambda x: handle_comma(x))\n",
    "df_trans['balance'] = df_trans['balance'].astype(float)\n"
   ]
  },
  {
   "cell_type": "code",
   "execution_count": null,
   "metadata": {},
   "outputs": [],
   "source": [
    "## TODO:\n",
    "# 1. Create cost column ( to keep track of kurtage spending)\n",
    "# 2. Compose sharelist from transactions dataframe to avoid to manually typing it in.\n",
    "# 3. Plot: - market value\n",
    "#          - money invested\n",
    "#          - expenses\n",
    "#          - profit\n",
    "\n",
    "\n",
    "# Add cost column to hold brokerage information\n",
    "df_trans['cost'] = 0\n"
   ]
  },
  {
   "cell_type": "markdown",
   "metadata": {},
   "source": [
    "### Plot prices "
   ]
  },
  {
   "cell_type": "code",
   "execution_count": 38,
   "metadata": {
    "scrolled": false
   },
   "outputs": [
    {
     "data": {
      "text/html": [
       "\n",
       "<div id=\"altair-viz-1ba80a5172334689a01d82085c26c82e\"></div>\n",
       "<script type=\"text/javascript\">\n",
       "  (function(spec, embedOpt){\n",
       "    let outputDiv = document.currentScript.previousElementSibling;\n",
       "    if (outputDiv.id !== \"altair-viz-1ba80a5172334689a01d82085c26c82e\") {\n",
       "      outputDiv = document.getElementById(\"altair-viz-1ba80a5172334689a01d82085c26c82e\");\n",
       "    }\n",
       "    const paths = {\n",
       "      \"vega\": \"https://cdn.jsdelivr.net/npm//vega@5?noext\",\n",
       "      \"vega-lib\": \"https://cdn.jsdelivr.net/npm//vega-lib?noext\",\n",
       "      \"vega-lite\": \"https://cdn.jsdelivr.net/npm//vega-lite@4.8.1?noext\",\n",
       "      \"vega-embed\": \"https://cdn.jsdelivr.net/npm//vega-embed@6?noext\",\n",
       "    };\n",
       "\n",
       "    function loadScript(lib) {\n",
       "      return new Promise(function(resolve, reject) {\n",
       "        var s = document.createElement('script');\n",
       "        s.src = paths[lib];\n",
       "        s.async = true;\n",
       "        s.onload = () => resolve(paths[lib]);\n",
       "        s.onerror = () => reject(`Error loading script: ${paths[lib]}`);\n",
       "        document.getElementsByTagName(\"head\")[0].appendChild(s);\n",
       "      });\n",
       "    }\n",
       "\n",
       "    function showError(err) {\n",
       "      outputDiv.innerHTML = `<div class=\"error\" style=\"color:red;\">${err}</div>`;\n",
       "      throw err;\n",
       "    }\n",
       "\n",
       "    function displayChart(vegaEmbed) {\n",
       "      vegaEmbed(outputDiv, spec, embedOpt)\n",
       "        .catch(err => showError(`Javascript Error: ${err.message}<br>This usually means there's a typo in your chart specification. See the javascript console for the full traceback.`));\n",
       "    }\n",
       "\n",
       "    if(typeof define === \"function\" && define.amd) {\n",
       "      requirejs.config({paths});\n",
       "      require([\"vega-embed\"], displayChart, err => showError(`Error loading script: ${err.message}`));\n",
       "    } else if (typeof vegaEmbed === \"function\") {\n",
       "      displayChart(vegaEmbed);\n",
       "    } else {\n",
       "      loadScript(\"vega\")\n",
       "        .then(() => loadScript(\"vega-lite\"))\n",
       "        .then(() => loadScript(\"vega-embed\"))\n",
       "        .catch(showError)\n",
       "        .then(() => displayChart(vegaEmbed));\n",
       "    }\n",
       "  })({\"config\": {\"view\": {\"continuousWidth\": 400, \"continuousHeight\": 300}}, \"data\": {\"name\": \"data-606e5b1a4c92db13c26ff1f5a048b048\"}, \"mark\": \"line\", \"encoding\": {\"color\": {\"type\": \"nominal\", \"field\": \"share\"}, \"x\": {\"type\": \"temporal\", \"field\": \"date\"}, \"y\": {\"type\": \"quantitative\", \"field\": \"price\"}}, \"height\": 400, \"selection\": {\"selector001\": {\"type\": \"interval\", \"bind\": \"scales\", \"encodings\": [\"x\", \"y\"]}}, \"width\": 800, \"$schema\": \"https://vega.github.io/schema/vega-lite/v4.8.1.json\", \"datasets\": {\"data-606e5b1a4c92db13c26ff1f5a048b048\": [{\"date\": \"2020-06-11T00:00:00\", \"price\": 867.6, \"share\": \"Carlsberg B A/S\"}, {\"date\": \"2020-06-12T00:00:00\", \"price\": 867.0, \"share\": \"Carlsberg B A/S\"}, {\"date\": \"2020-06-15T00:00:00\", \"price\": 855.4, \"share\": \"Carlsberg B A/S\"}, {\"date\": \"2020-06-16T00:00:00\", \"price\": 877.6, \"share\": \"Carlsberg B A/S\"}, {\"date\": \"2020-06-17T00:00:00\", \"price\": 896.6, \"share\": \"Carlsberg B A/S\"}, {\"date\": \"2020-06-18T00:00:00\", \"price\": 898.6, \"share\": \"Carlsberg B A/S\"}, {\"date\": \"2020-06-19T00:00:00\", \"price\": 890.4, \"share\": \"Carlsberg B A/S\"}, {\"date\": \"2020-06-22T00:00:00\", \"price\": 890.4, \"share\": \"Carlsberg B A/S\"}, {\"date\": \"2020-06-23T00:00:00\", \"price\": 905.6, \"share\": \"Carlsberg B A/S\"}, {\"date\": \"2020-06-24T00:00:00\", \"price\": 875.0, \"share\": \"Carlsberg B A/S\"}, {\"date\": \"2020-06-25T00:00:00\", \"price\": 873.0, \"share\": \"Carlsberg B A/S\"}, {\"date\": \"2020-06-26T00:00:00\", \"price\": 878.4, \"share\": \"Carlsberg B A/S\"}, {\"date\": \"2020-06-29T00:00:00\", \"price\": 866.2, \"share\": \"Carlsberg B A/S\"}, {\"date\": \"2020-06-30T00:00:00\", \"price\": 876.6, \"share\": \"Carlsberg B A/S\"}, {\"date\": \"2020-07-01T00:00:00\", \"price\": 872.8, \"share\": \"Carlsberg B A/S\"}, {\"date\": \"2020-07-02T00:00:00\", \"price\": 884.0, \"share\": \"Carlsberg B A/S\"}, {\"date\": \"2020-07-03T00:00:00\", \"price\": 887.2, \"share\": \"Carlsberg B A/S\"}, {\"date\": \"2020-07-06T00:00:00\", \"price\": 886.8, \"share\": \"Carlsberg B A/S\"}, {\"date\": \"2020-07-07T00:00:00\", \"price\": 887.4, \"share\": \"Carlsberg B A/S\"}, {\"date\": \"2020-07-08T00:00:00\", \"price\": 883.6, \"share\": \"Carlsberg B A/S\"}, {\"date\": \"2020-07-09T00:00:00\", \"price\": 871.0, \"share\": \"Carlsberg B A/S\"}, {\"date\": \"2020-07-10T00:00:00\", \"price\": 926.6, \"share\": \"Carlsberg B A/S\"}, {\"date\": \"2020-06-11T00:00:00\", \"price\": 746.0, \"share\": \"\\u00d8rsted\"}, {\"date\": \"2020-06-12T00:00:00\", \"price\": 749.2, \"share\": \"\\u00d8rsted\"}, {\"date\": \"2020-06-15T00:00:00\", \"price\": 752.2, \"share\": \"\\u00d8rsted\"}, {\"date\": \"2020-06-16T00:00:00\", \"price\": 741.8, \"share\": \"\\u00d8rsted\"}, {\"date\": \"2020-06-17T00:00:00\", \"price\": 745.2, \"share\": \"\\u00d8rsted\"}, {\"date\": \"2020-06-18T00:00:00\", \"price\": 753.2, \"share\": \"\\u00d8rsted\"}, {\"date\": \"2020-06-19T00:00:00\", \"price\": 753.8, \"share\": \"\\u00d8rsted\"}, {\"date\": \"2020-06-22T00:00:00\", \"price\": 777.4, \"share\": \"\\u00d8rsted\"}, {\"date\": \"2020-06-23T00:00:00\", \"price\": 776.2, \"share\": \"\\u00d8rsted\"}, {\"date\": \"2020-06-24T00:00:00\", \"price\": 761.8, \"share\": \"\\u00d8rsted\"}, {\"date\": \"2020-06-25T00:00:00\", \"price\": 761.6, \"share\": \"\\u00d8rsted\"}, {\"date\": \"2020-06-26T00:00:00\", \"price\": 756.2, \"share\": \"\\u00d8rsted\"}, {\"date\": \"2020-06-29T00:00:00\", \"price\": 770.4, \"share\": \"\\u00d8rsted\"}, {\"date\": \"2020-06-30T00:00:00\", \"price\": 765.4, \"share\": \"\\u00d8rsted\"}, {\"date\": \"2020-07-01T00:00:00\", \"price\": 766.0, \"share\": \"\\u00d8rsted\"}, {\"date\": \"2020-07-02T00:00:00\", \"price\": 785.0, \"share\": \"\\u00d8rsted\"}, {\"date\": \"2020-07-03T00:00:00\", \"price\": 796.8, \"share\": \"\\u00d8rsted\"}, {\"date\": \"2020-07-06T00:00:00\", \"price\": 793.0, \"share\": \"\\u00d8rsted\"}, {\"date\": \"2020-07-07T00:00:00\", \"price\": 802.0, \"share\": \"\\u00d8rsted\"}, {\"date\": \"2020-07-08T00:00:00\", \"price\": 840.8, \"share\": \"\\u00d8rsted\"}, {\"date\": \"2020-07-09T00:00:00\", \"price\": 842.0, \"share\": \"\\u00d8rsted\"}, {\"date\": \"2020-07-10T00:00:00\", \"price\": 852.2, \"share\": \"\\u00d8rsted\"}, {\"date\": \"2020-06-11T00:00:00\", \"price\": 179.5, \"share\": \"Demant A/S\"}, {\"date\": \"2020-06-12T00:00:00\", \"price\": 183.0, \"share\": \"Demant A/S\"}, {\"date\": \"2020-06-15T00:00:00\", \"price\": 182.0, \"share\": \"Demant A/S\"}, {\"date\": \"2020-06-16T00:00:00\", \"price\": 186.35, \"share\": \"Demant A/S\"}, {\"date\": \"2020-06-17T00:00:00\", \"price\": 190.9, \"share\": \"Demant A/S\"}, {\"date\": \"2020-06-18T00:00:00\", \"price\": 185.65, \"share\": \"Demant A/S\"}, {\"date\": \"2020-06-19T00:00:00\", \"price\": 191.9, \"share\": \"Demant A/S\"}, {\"date\": \"2020-06-22T00:00:00\", \"price\": 188.6, \"share\": \"Demant A/S\"}, {\"date\": \"2020-06-23T00:00:00\", \"price\": 187.5, \"share\": \"Demant A/S\"}, {\"date\": \"2020-06-24T00:00:00\", \"price\": 184.0, \"share\": \"Demant A/S\"}, {\"date\": \"2020-06-25T00:00:00\", \"price\": 178.0, \"share\": \"Demant A/S\"}, {\"date\": \"2020-06-26T00:00:00\", \"price\": 177.7, \"share\": \"Demant A/S\"}, {\"date\": \"2020-06-29T00:00:00\", \"price\": 174.9, \"share\": \"Demant A/S\"}, {\"date\": \"2020-06-30T00:00:00\", \"price\": 174.9, \"share\": \"Demant A/S\"}, {\"date\": \"2020-07-01T00:00:00\", \"price\": 176.0, \"share\": \"Demant A/S\"}, {\"date\": \"2020-07-02T00:00:00\", \"price\": 181.0, \"share\": \"Demant A/S\"}, {\"date\": \"2020-07-03T00:00:00\", \"price\": 181.85, \"share\": \"Demant A/S\"}, {\"date\": \"2020-07-06T00:00:00\", \"price\": 188.55, \"share\": \"Demant A/S\"}, {\"date\": \"2020-07-07T00:00:00\", \"price\": 184.5, \"share\": \"Demant A/S\"}, {\"date\": \"2020-07-08T00:00:00\", \"price\": 184.75, \"share\": \"Demant A/S\"}, {\"date\": \"2020-07-09T00:00:00\", \"price\": 186.55, \"share\": \"Demant A/S\"}, {\"date\": \"2020-07-10T00:00:00\", \"price\": 185.4, \"share\": \"Demant A/S\"}]}}, {\"mode\": \"vega-lite\"});\n",
       "</script>"
      ],
      "text/plain": [
       "alt.Chart(...)"
      ]
     },
     "execution_count": 38,
     "metadata": {},
     "output_type": "execute_result"
    }
   ],
   "source": [
    "import altair as alt\n",
    "alt.Chart(df_prices).mark_line().encode(\n",
    "    x='date',\n",
    "    y='price',\n",
    "    color='share'\n",
    ").properties(\n",
    "    width=800,\n",
    "    height=400\n",
    ").interactive()"
   ]
  }
 ],
 "metadata": {
  "kernelspec": {
   "display_name": "Python 3",
   "language": "python",
   "name": "python3"
  },
  "language_info": {
   "codemirror_mode": {
    "name": "ipython",
    "version": 3
   },
   "file_extension": ".py",
   "mimetype": "text/x-python",
   "name": "python",
   "nbconvert_exporter": "python",
   "pygments_lexer": "ipython3",
   "version": "3.8.2"
  }
 },
 "nbformat": 4,
 "nbformat_minor": 4
}
